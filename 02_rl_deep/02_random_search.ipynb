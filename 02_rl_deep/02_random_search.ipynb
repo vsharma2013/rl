{
 "cells": [
  {
   "cell_type": "code",
   "execution_count": 1,
   "metadata": {},
   "outputs": [],
   "source": [
    "from __future__ import print_function, division\n",
    "from builtins import range\n",
    "# Note: you may need to update your version of future\n",
    "# sudo pip install -U future\n",
    "\n",
    "import gym\n",
    "import numpy as np\n",
    "import matplotlib.pyplot as plt"
   ]
  },
  {
   "cell_type": "code",
   "execution_count": 2,
   "metadata": {},
   "outputs": [],
   "source": [
    "def get_action(s, w):\n",
    "  return 1 if s.dot(w) > 0 else 0"
   ]
  },
  {
   "cell_type": "code",
   "execution_count": 3,
   "metadata": {},
   "outputs": [],
   "source": [
    "def play_one_episode(env, params):\n",
    "  observation = env.reset()\n",
    "  done = False\n",
    "  t = 0\n",
    "\n",
    "  while not done and t < 10000:\n",
    "    # env.render()\n",
    "    t += 1\n",
    "    action = get_action(observation, params)\n",
    "    observation, reward, done, info = env.step(action)\n",
    "    if done:\n",
    "      break\n",
    "\n",
    "  return t"
   ]
  },
  {
   "cell_type": "code",
   "execution_count": 4,
   "metadata": {},
   "outputs": [],
   "source": [
    "def play_multiple_episodes(env, T, params):\n",
    "  episode_lengths = np.empty(T)\n",
    "\n",
    "  for i in range(T):\n",
    "    episode_lengths[i] = play_one_episode(env, params)\n",
    "\n",
    "  avg_length = episode_lengths.mean()\n",
    "  print(\"avg length:\", avg_length)\n",
    "  return avg_length"
   ]
  },
  {
   "cell_type": "code",
   "execution_count": 5,
   "metadata": {},
   "outputs": [],
   "source": [
    "def random_search(env):\n",
    "  episode_lengths = []\n",
    "  best = 0\n",
    "  params = None\n",
    "  for t in range(100):\n",
    "    new_params = np.random.random(4)*2 - 1\n",
    "    avg_length = play_multiple_episodes(env, 100, new_params)\n",
    "    episode_lengths.append(avg_length)\n",
    "\n",
    "    if avg_length > best:\n",
    "      params = new_params\n",
    "      best = avg_length\n",
    "  return episode_lengths, params"
   ]
  },
  {
   "cell_type": "code",
   "execution_count": 6,
   "metadata": {},
   "outputs": [
    {
     "name": "stdout",
     "output_type": "stream",
     "text": [
      "avg length: 9.1\n",
      "avg length: 62.9\n",
      "avg length: 9.23\n",
      "avg length: 12.32\n",
      "avg length: 102.38\n",
      "avg length: 9.51\n",
      "avg length: 35.54\n",
      "avg length: 30.51\n",
      "avg length: 9.57\n",
      "avg length: 9.33\n",
      "avg length: 9.0\n",
      "avg length: 8.92\n",
      "avg length: 125.14\n",
      "avg length: 8.99\n",
      "avg length: 9.43\n",
      "avg length: 8.83\n",
      "avg length: 8.97\n",
      "avg length: 12.28\n",
      "avg length: 9.03\n",
      "avg length: 8.91\n",
      "avg length: 9.7\n",
      "avg length: 9.41\n",
      "avg length: 198.08\n",
      "avg length: 9.1\n",
      "avg length: 9.21\n",
      "avg length: 37.06\n",
      "avg length: 58.44\n",
      "avg length: 169.45\n",
      "avg length: 9.65\n",
      "avg length: 9.45\n",
      "avg length: 92.53\n",
      "avg length: 88.18\n",
      "avg length: 9.48\n",
      "avg length: 9.32\n",
      "avg length: 8.79\n",
      "avg length: 30.32\n",
      "avg length: 30.37\n",
      "avg length: 155.19\n",
      "avg length: 9.28\n",
      "avg length: 9.31\n",
      "avg length: 33.01\n",
      "avg length: 16.65\n",
      "avg length: 9.23\n",
      "avg length: 132.9\n",
      "avg length: 133.7\n",
      "avg length: 9.27\n",
      "avg length: 50.06\n",
      "avg length: 56.11\n",
      "avg length: 9.18\n",
      "avg length: 9.26\n",
      "avg length: 9.36\n",
      "avg length: 31.25\n",
      "avg length: 22.36\n",
      "avg length: 43.46\n",
      "avg length: 107.6\n",
      "avg length: 66.66\n",
      "avg length: 9.6\n",
      "avg length: 14.77\n",
      "avg length: 9.04\n",
      "avg length: 9.4\n",
      "avg length: 24.06\n",
      "avg length: 10.63\n",
      "avg length: 57.23\n",
      "avg length: 15.35\n",
      "avg length: 144.18\n",
      "avg length: 27.74\n",
      "avg length: 9.61\n",
      "avg length: 66.09\n",
      "avg length: 71.45\n",
      "avg length: 9.34\n",
      "avg length: 36.07\n",
      "avg length: 53.19\n",
      "avg length: 9.71\n",
      "avg length: 9.64\n",
      "avg length: 9.22\n",
      "avg length: 200.0\n",
      "avg length: 52.91\n",
      "avg length: 9.07\n",
      "avg length: 90.34\n",
      "avg length: 131.98\n",
      "avg length: 82.08\n",
      "avg length: 78.13\n",
      "avg length: 8.83\n",
      "avg length: 9.05\n",
      "avg length: 9.0\n",
      "avg length: 9.24\n",
      "avg length: 51.65\n",
      "avg length: 9.39\n",
      "avg length: 9.5\n",
      "avg length: 9.44\n",
      "avg length: 89.83\n",
      "avg length: 9.2\n",
      "avg length: 110.97\n",
      "avg length: 20.69\n",
      "avg length: 9.6\n",
      "avg length: 9.63\n",
      "avg length: 8.89\n",
      "avg length: 9.45\n",
      "avg length: 54.7\n",
      "avg length: 9.38\n"
     ]
    },
    {
     "data": {
      "image/png": "[encoded data removed]",
      "text/plain": [
       "<Figure size 432x288 with 1 Axes>"
      ]
     },
     "metadata": {
      "needs_background": "light"
     },
     "output_type": "display_data"
    },
    {
     "name": "stdout",
     "output_type": "stream",
     "text": [
      "***Final run with final weights***\n",
      "avg length: 200.0\n"
     ]
    },
    {
     "data": {
      "text/plain": [
       "200.0"
      ]
     },
     "execution_count": 6,
     "metadata": {},
     "output_type": "execute_result"
    }
   ],
   "source": [
    "env = gym.make('CartPole-v0')\n",
    "episode_lengths, params = random_search(env)\n",
    "plt.plot(episode_lengths)\n",
    "plt.show()\n",
    "\n",
    "# play a final set of episodes\n",
    "print(\"***Final run with final weights***\")\n",
    "play_multiple_episodes(env, 100, params)"
   ]
  },
  {
   "cell_type": "code",
   "execution_count": null,
   "metadata": {},
   "outputs": [],
   "source": []
  }
 ],
 "metadata": {
  "kernelspec": {
   "display_name": "Python 3",
   "language": "python",
   "name": "python3"
  },
  "language_info": {
   "codemirror_mode": {
    "name": "ipython",
    "version": 3
   },
   "file_extension": ".py",
   "mimetype": "text/x-python",
   "name": "python",
   "nbconvert_exporter": "python",
   "pygments_lexer": "ipython3",
   "version": "3.6.7"
  }
 },
 "nbformat": 4,
 "nbformat_minor": 2
}
